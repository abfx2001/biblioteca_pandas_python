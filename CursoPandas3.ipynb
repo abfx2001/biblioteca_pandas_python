{
  "nbformat": 4,
  "nbformat_minor": 0,
  "metadata": {
    "colab": {
      "provenance": [],
      "authorship_tag": "ABX9TyOVrHmYXOSY/vWyUc6EfVKB",
      "include_colab_link": true
    },
    "kernelspec": {
      "name": "python3",
      "display_name": "Python 3"
    },
    "language_info": {
      "name": "python"
    }
  },
  "cells": [
    {
      "cell_type": "markdown",
      "metadata": {
        "id": "view-in-github",
        "colab_type": "text"
      },
      "source": [
        "<a href=\"https://colab.research.google.com/github/abfx2001/biblioteca_pandas_python/blob/main/CursoPandas3.ipynb\" target=\"_parent\"><img src=\"https://colab.research.google.com/assets/colab-badge.svg\" alt=\"Open In Colab\"/></a>"
      ]
    },
    {
      "cell_type": "markdown",
      "source": [],
      "metadata": {
        "id": "KLdjNpfo78G5"
      }
    },
    {
      "cell_type": "markdown",
      "source": [
        "#Curso de Extensão de Como usar a Biblioteca Pandas do Python para análise de dados\n",
        "\n",
        "> Utilizando o Google Colab para fazer análise de dados da internet."
      ],
      "metadata": {
        "id": "6SH94PLq7-6h"
      }
    },
    {
      "cell_type": "code",
      "source": [
        "# Importando biblioteca pandas no Python\n",
        "import pandas as pd\n",
        "\n",
        "combustiveis_df = pd.read_excel(\"ca-2021-02.xlsx\")\n",
        "#combustiveis_df = pd.read_csv(\"ca-2021-02v2.csv\")"
      ],
      "metadata": {
        "id": "GFxKbZw89Uht"
      },
      "execution_count": 1,
      "outputs": []
    },
    {
      "cell_type": "code",
      "source": [
        "# Usa o print para ver o dataframe!\n",
        "print(combustiveis_df)"
      ],
      "metadata": {
        "id": "JTXimdua-bb7"
      },
      "execution_count": null,
      "outputs": []
    },
    {
      "cell_type": "code",
      "source": [
        "# Display mostra mais organizado!\n",
        "display(combustiveis_df)"
      ],
      "metadata": {
        "id": "1X4xs7fd-eLF"
      },
      "execution_count": null,
      "outputs": []
    },
    {
      "cell_type": "code",
      "source": [
        "# Exibe as primeiras 5 linhas!\n",
        "display(combustiveis_df.head())"
      ],
      "metadata": {
        "id": "grq6QEqu-pl3"
      },
      "execution_count": null,
      "outputs": []
    },
    {
      "cell_type": "code",
      "source": [
        "# Quero, na verdade, exibir as primeiras 15 linhas\n",
        "display(combustiveis_df.head(15))"
      ],
      "metadata": {
        "id": "18y7ki1X-zlz"
      },
      "execution_count": null,
      "outputs": []
    },
    {
      "cell_type": "code",
      "source": [
        "# Comondos Dataframe.shape e Dataframe. describe\n",
        "print(\"(linhas, colunas)\")\n",
        "print(combustiveis_df.shape)\n",
        "# mostra o número de linhas e colunas (linhas, colunas)"
      ],
      "metadata": {
        "id": "X5wg1HIX-4yD"
      },
      "execution_count": null,
      "outputs": []
    },
    {
      "cell_type": "code",
      "source": [
        "# Quais são as colunas e que tipo de dados cada um tem...\n",
        "print(combustiveis_df.info())"
      ],
      "metadata": {
        "id": "cxahjtQM_lBk"
      },
      "execution_count": null,
      "outputs": []
    },
    {
      "cell_type": "code",
      "source": [
        "# Função DataFrame.describe() faz as estatísticas básicas\n",
        "print(combustiveis_df.describe())"
      ],
      "metadata": {
        "id": "mbsANFsk_tDp"
      },
      "execution_count": null,
      "outputs": []
    },
    {
      "cell_type": "code",
      "source": [
        "# filtrar por apenas uma COLUNA\n",
        "display(combustiveis_df['Revenda'])"
      ],
      "metadata": {
        "id": "oFUwb7iSALKa"
      },
      "execution_count": null,
      "outputs": []
    },
    {
      "cell_type": "code",
      "source": [
        "# Aqui criamos um novo dataframe apenas com as colunas que eu quero..\n",
        "ca_df = combustiveis_df[['Revenda', 'Municipio', 'Produto', 'Valor de Venda']] \n",
        "display(ca_df)"
      ],
      "metadata": {
        "id": "XrL1xr7OAYTl"
      },
      "execution_count": null,
      "outputs": []
    },
    {
      "cell_type": "code",
      "source": [
        "# Exibe a 4a. linha\n",
        "display(ca_df.loc[3])"
      ],
      "metadata": {
        "id": "ZXMDG8sdAtLe"
      },
      "execution_count": null,
      "outputs": []
    },
    {
      "cell_type": "code",
      "source": [
        "# Exibir da 10a. linha até a 20a.linha\n",
        "display(ca_df.loc[9:19])"
      ],
      "metadata": {
        "id": "mFnPNstPAzwU"
      },
      "execution_count": null,
      "outputs": []
    },
    {
      "cell_type": "code",
      "source": [
        "# Criar um dataframe gas_df contendo \n",
        "# apenas as 4 colunas (Revenda, Municipio, Produto, Valor de Venda)\n",
        "# somente com combustível sendo GASOLINA e exibir na tela\n",
        "gas_df = ca_df.loc[ca_df['Produto'] == 'GASOLINA']\n",
        "display(gas_df)\n",
        "print(\"=== Maior Valor de Venda ===\")\n",
        "display(gas_df['Valor de Venda'].max())"
      ],
      "metadata": {
        "id": "OWcO0qFbA7S6"
      },
      "execution_count": null,
      "outputs": []
    },
    {
      "cell_type": "code",
      "source": [
        "# DataFrame.loc[] com múltiplas condições para filtragem\n",
        "# Quais são os preços, postos que vendem ETANOL na minha cidade (INDAIATUBA) \n",
        "# ordenado do menor valor de venda para o maior\n",
        "etanol_indaiatuba_df = ca_df.loc[(ca_df['Produto'] == 'ETANOL') & (ca_df['Municipio'] == 'INDAIATUBA')]\n",
        "display(etanol_indaiatuba_df.sort_values(by='Valor de Venda'))"
      ],
      "metadata": {
        "id": "wwP7zJeLszxf"
      },
      "execution_count": null,
      "outputs": []
    },
    {
      "cell_type": "code",
      "source": [
        "# Qual a média de preços dos combustíveis GASOLINA e GASOLINA ADITIVADA do Bairro MOOCA em SÃO PAULO?\n",
        "display(combustiveis_df.loc[(combustiveis_df['Bairro'] == 'MOOCA') & \n",
        "                            (combustiveis_df['Municipio'] == 'SAO PAULO') & \n",
        "                            (combustiveis_df['Produto'].isin([\"GASOLINA\", \"GASOLINA ADITIVADA\"])), \n",
        "                            ['Valor de Venda']].mean())"
      ],
      "metadata": {
        "id": "E3MwRvANr2BC"
      },
      "execution_count": null,
      "outputs": []
    },
    {
      "cell_type": "code",
      "source": [
        "# Como mostrar média de valor de venda POR COMBUSTÍVEL Brasil todo?\n",
        "media_por_combustivel_df = ca_df[['Produto', 'Valor de Venda']].groupby(by='Produto').mean().round(2)\n",
        "display(media_por_combustivel_df)"
      ],
      "metadata": {
        "id": "G-9O09l_r8on"
      },
      "execution_count": null,
      "outputs": []
    },
    {
      "cell_type": "code",
      "source": [
        "# Quero adicionar uma coluna de valor booleano no combustiveis_df\n",
        "# chamada \"Ativo\" que, por padrão, vai ser True para \n",
        "# TODAS as linhas\n",
        "combustiveis_df['Ativo'] = True\n",
        "print(combustiveis_df.info())\n",
        "display(combustiveis_df.head())"
      ],
      "metadata": {
        "id": "jkuDpx0BsBc-"
      },
      "execution_count": null,
      "outputs": []
    },
    {
      "cell_type": "code",
      "source": [
        "# Exportar para Excel o dataframe com etanol em Indaiatuba....\n",
        "etanol_indaiatuba_df.to_excel('etanol_indaiatuba.xlsx', sheet_name='Etanol em Indaiatuba')"
      ],
      "metadata": {
        "id": "NA9beA8ysItk"
      },
      "execution_count": 20,
      "outputs": []
    }
  ]
}