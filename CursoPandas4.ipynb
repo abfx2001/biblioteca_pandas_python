{
  "nbformat": 4,
  "nbformat_minor": 0,
  "metadata": {
    "colab": {
      "provenance": [],
      "authorship_tag": "ABX9TyPH67t58bV6UHWohzGsl78Y",
      "include_colab_link": true
    },
    "kernelspec": {
      "name": "python3",
      "display_name": "Python 3"
    },
    "language_info": {
      "name": "python"
    }
  },
  "cells": [
    {
      "cell_type": "markdown",
      "metadata": {
        "id": "view-in-github",
        "colab_type": "text"
      },
      "source": [
        "<a href=\"https://colab.research.google.com/github/abfx2001/biblioteca_pandas_python/blob/main/CursoPandas2.ipynb\" target=\"_parent\"><img src=\"https://colab.research.google.com/assets/colab-badge.svg\" alt=\"Open In Colab\"/></a>"
      ]
    },
    {
      "cell_type": "code",
      "execution_count": 1,
      "metadata": {
        "id": "g8hRJReeQq3e"
      },
      "outputs": [],
      "source": [
        "# Importando biblioteca pandas no Python\n",
        "import pandas as pd"
      ]
    },
    {
      "cell_type": "code",
      "source": [
        "combustiveis_df = pd.read_excel(\"ca-2021-02.xlsx\")\n",
        "display(combustiveis_df.head())"
      ],
      "metadata": {
        "id": "z5S6g90dRAM1"
      },
      "execution_count": null,
      "outputs": []
    },
    {
      "cell_type": "code",
      "source": [
        "# Inserção simples de dado\n",
        "combustiveis_df['Ativo'] = True\n",
        "\n",
        "display(combustiveis_df.head())"
      ],
      "metadata": {
        "id": "cxZ74mixRCup"
      },
      "execution_count": null,
      "outputs": []
    },
    {
      "cell_type": "code",
      "source": [
        "# Criar uma coluna \"Obs\" que tenha nela escrito \"MELHOR CIDADE\" quando a coluna Municipio for igual a SAO PAULO\n",
        "combustiveis_df['Obs'] = [\"MELHOR CIDADE\" if municipio == 'SAO PAULO' else None for municipio in combustiveis_df['Municipio']]\n",
        "display(combustiveis_df.loc[combustiveis_df['Municipio'].isin(['SAO PAULO','INDAIATUBA', 'CAMPINAS', 'SALTO']), ['Municipio', 'Obs']])"
      ],
      "metadata": {
        "id": "cRN9J1glRDG1"
      },
      "execution_count": null,
      "outputs": []
    },
    {
      "cell_type": "code",
      "source": [
        "# (por Leandro Rodrigues)\n",
        "# como preencher uma coluna 'Valor de Venda - Status' que verifica o seguinte:\n",
        "# se o valor de venda for maior que 6,5 reais, ele fala que tá Caro..caso contrário, está barato\n",
        "import numpy as np\n",
        "\n",
        "combustiveis_df['Status do Valor de Venda'] = np.where(combustiveis_df['Valor de Venda'] > 6.5, 'Caro', 'Barato')\n",
        "display(combustiveis_df[['Revenda', 'Valor de Venda', 'Status do Valor de Venda']])"
      ],
      "metadata": {
        "id": "u-oFDTUsRIEO"
      },
      "execution_count": null,
      "outputs": []
    },
    {
      "cell_type": "code",
      "source": [
        "# Calcular postos de gasolina por habitante temos na amostragem de \n",
        "# combustiveis nov/2021\n",
        "\n",
        "num_habitantes_df = pd.read_csv(\"ibge_num_habitantes_estimado.csv\", sep=\";\")\n",
        "display(num_habitantes_df)"
      ],
      "metadata": {
        "id": "zRtfkgTJRRuY"
      },
      "execution_count": null,
      "outputs": []
    },
    {
      "cell_type": "code",
      "source": [
        "# Calcular postos de gasolina por habitante temos na amostragem de \n",
        "# combustiveis nov/2021\n",
        "\n",
        "num_habitantes_df = pd.read_csv(\"ibge_num_habitantes_estimado.csv\", sep=\";\")\n",
        "num_habitantes_df.rename(columns={\"Estado\":\"Estado - Sigla\"}, inplace=True)\n",
        "display(num_habitantes_df)"
      ],
      "metadata": {
        "id": "q5g02ko7RTYT"
      },
      "execution_count": null,
      "outputs": []
    },
    {
      "cell_type": "code",
      "source": [
        "# Faz um MERGE dos dois dataframes\n",
        "colunas = ['Municipio', 'Estado - Sigla']\n",
        "merge_df = combustiveis_df.merge(num_habitantes_df, how=\"inner\", on=colunas)\n",
        "display(merge_df)\n",
        "print(merge_df.info())"
      ],
      "metadata": {
        "id": "pqbDp5Y4RXho"
      },
      "execution_count": null,
      "outputs": []
    },
    {
      "cell_type": "code",
      "source": [
        "# Destruir coluna completamente vazia (todas as linhas são nulas)\n",
        "merge_df.dropna(axis='columns', inplace=True)\n",
        "print(merge_df.info())"
      ],
      "metadata": {
        "id": "bO5dqAHWRZ1F"
      },
      "execution_count": null,
      "outputs": []
    },
    {
      "cell_type": "code",
      "source": [
        "colunas=['Regiao - Sigla', 'Nome da Rua', 'Numero Rua', \n",
        "         'Bairro', 'Cep', 'Produto', 'Data da Coleta', 'Valor de Venda',\n",
        "         'Unidade de Medida', 'Bandeira', 'Ativo', 'Status do Valor de Venda']\n",
        "merge_df.drop(labels=colunas, axis=1, inplace=True)\n",
        "print(merge_df.info())"
      ],
      "metadata": {
        "id": "S6ZQZJC0RbWs"
      },
      "execution_count": null,
      "outputs": []
    },
    {
      "cell_type": "code",
      "source": [
        "# Remover a linhas duplicadas\n",
        "merge_df.drop_duplicates(inplace=True)\n",
        "display(merge_df.head(100))"
      ],
      "metadata": {
        "id": "8xFANhjDRc5d"
      },
      "execution_count": null,
      "outputs": []
    },
    {
      "cell_type": "code",
      "source": [
        "# Agrupar e contar quantos postos tem na cidade..\n",
        "postos_por_municipio_df = merge_df.groupby(by=['Estado - Sigla', 'Municipio', 'NumHabitantes2021']).count()\n",
        "postos_por_municipio_df.drop('CNPJ da Revenda', axis=1, inplace=True)\n",
        "postos_por_municipio_df.rename(columns={\"Revenda\": \"Número de Postos\"}, inplace=True)\n",
        "display(postos_por_municipio_df)"
      ],
      "metadata": {
        "id": "dlE7cUm3ReqQ"
      },
      "execution_count": null,
      "outputs": []
    },
    {
      "cell_type": "code",
      "source": [
        "# Agrupar e contar quantos postos tem na cidade..\n",
        "postos_por_municipio_df = merge_df.groupby(by=['Estado - Sigla', 'Municipio', 'NumHabitantes2021']).count()\n",
        "postos_por_municipio_df.reset_index(inplace=True)\n",
        "# display(postos_por_municipio_df.info())\n",
        "postos_por_municipio_df.drop('CNPJ da Revenda', axis=1, inplace=True)\n",
        "postos_por_municipio_df.rename(columns={\"Revenda\": \"NumPostos\"}, inplace=True)\n",
        "\n",
        "postos_por_municipio_df['NumHabitantesPorPosto'] = postos_por_municipio_df['NumHabitantes2021'] / postos_por_municipio_df['NumPostos']\n",
        "# display(postos_por_municipio_df.info())\n",
        "display(postos_por_municipio_df)"
      ],
      "metadata": {
        "id": "_-4yKG1ARs-I"
      },
      "execution_count": null,
      "outputs": []
    },
    {
      "cell_type": "code",
      "source": [
        "# Vamos brincar de gráficos!!!\n",
        "\n",
        "import matplotlib.pyplot as plt\n",
        "\n",
        "plt.hist(combustiveis_df['Valor de Venda'])\n",
        "# Vamos colocar um título no gráfico\n",
        "plt.title(\"Preço dos combustíveis - Nov/2021\")\n",
        "# Rótulo horizontal e vertical\n",
        "plt.xlabel(\"Preço (em reais)\")\n",
        "plt.ylabel(\"Quantidade de Coletas\")\n",
        "\n",
        "# Traça a linha vermelha tracejada com o preço médio\n",
        "plt.axvline(combustiveis_df['Valor de Venda'].mean(), color='red', linestyle='dashed', linewidth=5)\n",
        "\n",
        "\n",
        "# \"Plota\" o gráfico\n",
        "plt.show()"
      ],
      "metadata": {
        "id": "RvyWZ5uSRvBz"
      },
      "execution_count": null,
      "outputs": []
    },
    {
      "cell_type": "code",
      "source": [
        "# Visualização do consumo médio\n",
        "c_mean = combustiveis_df['Valor de Venda'].groupby(by=combustiveis_df['Produto']).mean()\n",
        "display(c_mean)"
      ],
      "metadata": {
        "id": "W81GCiQcTN9C"
      },
      "execution_count": null,
      "outputs": []
    },
    {
      "cell_type": "code",
      "source": [
        "import seaborn as sns\n",
        "\n",
        "# Vou definir a área do gráfico\n",
        "plt.figure(figsize=(7,5))\n",
        "\n",
        "# Plotar o gráfico\n",
        "c_mean.plot(\n",
        "    kind=\"barh\",\n",
        "    xlabel=\"Tipo de Combustível\",\n",
        "    ylabel=\"Preço reais/litro\",\n",
        "    title=\"Média de preços por combustível\",\n",
        "    color=\"red\",\n",
        "    alpha=0.3\n",
        ")\n",
        "\n",
        "# Grid\n",
        "plt.grid()\n",
        "\n",
        "# Remover as linhas superior e lateral direita do gráfico \n",
        "sns.despine()\n",
        "\n",
        "# Exibe\n",
        "plt.show()"
      ],
      "metadata": {
        "id": "5qWqY2GdR1qv"
      },
      "execution_count": null,
      "outputs": []
    },
    {
      "cell_type": "code",
      "source": [
        "#c_mean.reset_index(inplace=True)\n",
        "display(c_mean)\n",
        "\n",
        "excel = \"por_litro.xlsx\"\n",
        "c_mean.to_excel(excel, \"Sumário\")"
      ],
      "metadata": {
        "id": "TLrNAjl4R3w4"
      },
      "execution_count": null,
      "outputs": []
    },
    {
      "cell_type": "code",
      "source": [
        "# Vamor personalizar a planilha Excel...\n",
        "from openpyxl import load_workbook\n",
        "from openpyxl.styles import PatternFill, Font, Color, Alignment\n",
        "\n",
        "# Vai abrir o Excel no openpyxl\n",
        "wb = load_workbook(excel) # wb = Workbook\n",
        "\n",
        "# Pegar a planilha certa... usando o Sheet Name (nome da planilha)\n",
        "ws = wb['Sumário'] # Work Sheet -> planilha atual, ativa, de trabalho\n",
        "\n",
        "# Vamos pintar o cabeçalho da tabela de \"cinzinha\"\n",
        "cinzinha = PatternFill(\"solid\", fgColor=\"CCCCCC\")\n",
        "coords = ['A1', 'B1']\n",
        "for coord in coords:\n",
        "  ws[coord].fill = cinzinha\n",
        "\n",
        "# Onde o preço do combustível for maior ou igual a 6,5 reais (6.5) pinta a fonte\n",
        "# de vermelho e deixa negrito...\n",
        "MAX_ROW = ws.max_row\n",
        "num_linha = 2\n",
        "while (num_linha <= MAX_ROW):\n",
        "  coord = 'B'+str(num_linha) # coord=\"B{0}\".format(num_linha)\n",
        "  if ws[coord].value >= 6.5:\n",
        "    ws[coord].font = Font(bold=True, color=\"FF0000\")\n",
        "  num_linha = num_linha + 1\n",
        "# Salvar o Excel\n",
        "wb.save(excel)"
      ],
      "metadata": {
        "id": "N6NMiRyRR7yY"
      },
      "execution_count": 26,
      "outputs": []
    }
  ]
}
